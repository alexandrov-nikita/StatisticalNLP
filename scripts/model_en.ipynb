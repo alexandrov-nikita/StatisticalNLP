{
 "cells": [
  {
   "cell_type": "code",
   "execution_count": 1,
   "metadata": {},
   "outputs": [],
   "source": [
    "from nltk.stem import SnowballStemmer\n",
    "from nltk.tokenize import RegexpTokenizer\n",
    "from gensim.models import word2vec"
   ]
  },
  {
   "cell_type": "code",
   "execution_count": 2,
   "metadata": {},
   "outputs": [],
   "source": [
    "path = '../tweets/en/all.csv'\n",
    "\n",
    "stemmer = SnowballStemmer('english')\n",
    "tokenizer = RegexpTokenizer('\\w+')"
   ]
  },
  {
   "cell_type": "code",
   "execution_count": 3,
   "metadata": {},
   "outputs": [],
   "source": [
    "def preprocess(text, tokenizer=tokenizer, stemmer=stemmer):\n",
    "    '''Preprocesses a line and returns a list of preprocessed tokens'''\n",
    "    \n",
    "    # lower case and remove leading/trailing spaces\n",
    "    text = text.lower().strip()\n",
    "    \n",
    "    tokens = []\n",
    "    \n",
    "    for token in text.split():\n",
    "        # skip links and user handles\n",
    "        if token.startswith('https://') or token.startswith('@'):\n",
    "            continue\n",
    "            \n",
    "        tokens.append(token)\n",
    "    \n",
    "    # tokenize the text\n",
    "    tokens = tokenizer.tokenize(' '.join(tokens))\n",
    "    \n",
    "    # apply stemmer to each token\n",
    "#     tokens = list(map(stemmer.stem, tokens))\n",
    "    \n",
    "    return tokens"
   ]
  },
  {
   "cell_type": "code",
   "execution_count": null,
   "metadata": {},
   "outputs": [],
   "source": [
    "tweets = []\n",
    "\n",
    "with open(path, 'r', newline='\\r\\n') as f:\n",
    "    for i, line in enumerate(f.readlines()):\n",
    "        n, tweet = line.split(',', maxsplit=1)\n",
    "        tokens = preprocess(tweet)\n",
    "        \n",
    "        tweets.append(tokens)"
   ]
  },
  {
   "cell_type": "code",
   "execution_count": null,
   "metadata": {},
   "outputs": [],
   "source": [
    "params = [\n",
    "    (50, 5, 3, 0),\n",
    "    (150, 3, 3, 0),\n",
    "    (50, 2, 0, 0),\n",
    "    (50, 5, 3, 1),\n",
    "    (150, 3, 3, 1),\n",
    "    (50, 2, 0, 1),\n",
    "]\n",
    "\n",
    "models = [word2vec.Word2Vec(sentences=tweets, size=size, window=window, min_count=min_count, sg=sg) \n",
    "         for size, window, min_count, sg in params]\n"
   ]
  },
  {
   "cell_type": "code",
   "execution_count": null,
   "metadata": {},
   "outputs": [],
   "source": [
    "for model in models:\n",
    "    for x in model.wv.most_similar(positive=['war']):\n",
    "        print(x)\n",
    "    print('-----------------')"
   ]
  }
 ],
 "metadata": {
  "kernelspec": {
   "display_name": "Python 3",
   "language": "python",
   "name": "python3"
  },
  "language_info": {
   "codemirror_mode": {
    "name": "ipython",
    "version": 3
   },
   "file_extension": ".py",
   "mimetype": "text/x-python",
   "name": "python",
   "nbconvert_exporter": "python",
   "pygments_lexer": "ipython3",
   "version": "3.6.4"
  }
 },
 "nbformat": 4,
 "nbformat_minor": 2
}
