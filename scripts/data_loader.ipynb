{
 "cells": [
  {
   "cell_type": "code",
   "execution_count": null,
   "metadata": {},
   "outputs": [
    {
     "name": "stdout",
     "output_type": "stream",
     "text": [
      "2018-04-15 23:59:59 @kylegriffin1 @mirandayaver That’s correct.  Good thing Trump hasn’t broken any, but all those investigating him have.  Are they above the law?\n",
      "2018-04-15 23:59:59 I’m with you. Not everyone realizes that Mueller just may be helping Trump. Things aren’t always clear as we would like them to be. https://t.co/wlaOXkyA7i\n",
      "2018-04-15 23:59:59 Excerpt: Newsweek\n",
      "Trump: My Other Lawyers Are 'Deflated And Concerned' They Will Be Raided Too\n",
      "By Harriet Sinclair  4/15/18\n",
      "\n",
      "Bullsh*t!\n",
      "\n",
      "@realDonaldTrump @FoxNews @GOP @DNC #Trump #GOP #DNC #MAGA #KAG #DACA #BanAssaultWeapons #BoycottNRA #NeverAgain #NotOneMore #WhatIf https://t.co/L09r0SRnrR\n",
      "2018-04-15 23:59:59 @OfficeOfMike @RedNationRising  Well, are you a Conservative? Do you support President Trump? Hmm\n",
      "2018-04-15 23:59:59 @NormEisen Jesus would say, “Trump, you’re a damned idiot.”\n",
      "2018-04-15 23:59:59 &amp;, @charliekirk11 - He has succeeded! @POTUS @realDonaldTrump is a #Huge success! The Democrats thought they would win, thought #Trump wouldn’t succeed, &amp; thought they could derail his #Winning with #FakeNews &amp; misinformation. Now, they’re entirely lost in tabloid desperation! https://t.co/MQO4ZxwUnt\n",
      "2018-04-15 23:59:58 @kiptw A new co-worker was telling me how serial killer Hilary will be in prison within six months, secret Muslim Obama will join her within two years, and Trump will be reelected in a landslide.\n",
      "\n",
      "I kept smiling and gently suggested he broaden the news sources he reads.\n",
      "2018-04-15 23:59:58 Michael Cohen and the End Stage of the Trump Presidency https://t.co/9eh952ckVy\n",
      "2018-04-15 23:59:58 @SteveSchmidtSES Dereliction of duty. Ryan did tax cuts for donor class &amp; is high tailing it out of Congress before there's a chance to impeach him for dereliction of duty per Trump.\n",
      "2018-04-15 23:59:58 Trump WILL NOT be impeached I GUARANTEE IT. https://t.co/ukgzUasV8A\n",
      "2018-04-15 23:59:57 @KamalaHarris Absolutely correct. GOP have to be called out AND Dems have to be called out. trump won because he shouted from the mountaintop about deep state and bad GOP as well as Dem (the swamp). If a moderate Dem can get out of primary &amp; then call it true as opposed to party they will win\n",
      "2018-04-15 23:59:57 At @pdamerica and @PDAction , as well as @DFAaction and @OurRevolution , we INSIST that President Donald Trump WORK WITH CONGRESS as Mandated by the U.S. Constitution and Work Toward a DIPLOMATIC SOLUTION to the Crisis in Syria.  #HealthcareNotWarfare ! https://t.co/0SnB8UJU3O\n",
      "2018-04-15 23:59:57 @Bunderosa @The_Trump_Train I make my own e liquid.  This makes it 300% cheaper. Less than d\n",
      "$1 a week. Just saying.\n",
      "2018-04-15 23:59:56 And so now, the questions are: who else received funds from that account? who funded it? \n",
      "\n",
      "He's done.\n",
      "https://t.co/FOPRaOT6km via @WSJ\n",
      "2018-04-15 23:59:56 @FoxNews @Franklin_Graham Obama showed much more devotion to religion than Trump does. I can’t help but have a feeling Franklin Graham isn’t being honest. And all this time is was taught that being a good Christian meant telling the truth. Color me shocked.\n",
      "2018-04-15 23:59:55 It doesn't surprise.\n",
      "Trump is literally an illiterate.\n",
      "2018-04-15 23:59:55 @yokoono That'd serve Trump exceptionally well.\n",
      "2018-04-15 23:59:54 @seanhannity There’s no difference between Joy Behar , Larry or Curly or Shemp for that matter . Why doesn’t anyone even give her the time of day . Stupid comments by a stupid woman . Same as Rachel Madcow theorizing that Trump bombed Syria to divert attention from the Stormy Daniels scandal.\n",
      "2018-04-15 23:59:54 Pentagon Sucks the Air Out of Trump’s ‘Mission Accomplished’ https://t.co/8oJfQK201g via @thedailybeast\n",
      "2018-04-15 23:59:54 @ScottAdamsSays @BamaRidger @nycjaneyvee @brithume Stormy wouldn’t be famous if Trump hadn’t asked her to spank him &amp; then got Cohen to pay hush money.\n",
      "2018-04-15 23:59:53 @DaveDriffeysr @FoxNews Then you don't oppose additional Syrian refugees and Trump can reverse his policy. Great to hear.\n",
      "2018-04-15 23:59:53 French president brags that he convinced Trump to strike Syria as the US was poised to pull out https://t.co/7JpuIXFk7c\n",
      "2018-04-15 23:59:53 @BreitbartNews Strange she confused Obama for Trump\n",
      "2018-04-15 23:59:53 Comedian Randy Credico says Trump adviser Roger Stone threatened his dog https://t.co/DZuLLfInyl via @YahooNews\n",
      "2018-04-15 23:59:53 Trump “Mission Accomplished” Sparks Stock Buying Spree; Investors Dump Bonds &amp; Bullion https://t.co/fIE99Z6mp2 https://t.co/iL15r4WJa9\n",
      "2018-04-15 23:59:52 This article gives me hope. https://t.co/ZZRLHDhTU8\n",
      "2018-04-15 23:59:52 Michael Cohen and the End Stage of the Trump Presidency https://t.co/4JoSZOcf3m @POTUS Tick, tock, hear that clock?\n",
      "2018-04-15 23:59:52 @johnflerner @RonaldKlain @ParentofSam1 And people who believe in both. Trump does not believe in either.\n",
      "They seem to believe in light white, angry, racist, gun-totin’, means to an end, Republican Jesus...\n",
      "Not Christ.\n",
      "2018-04-15 23:59:52 @traciemac_Bmore @Delavegalaw @NormEisen @AriMelber @Comey Agree. All it did was provide a distraction for Trump so he can avoid Cohen news.\n",
      "2018-04-15 23:59:52 @realDonaldTrump what I want Trump supporters to know: those of us you call \"libtards\" care about decent wages, education, and healthcare for ALL. We care about preserving our Democracy, fair and accurate reporting, our rights and liberties. Our Constitution. https://t.co/aK1EwGdtd8\n",
      "2018-04-15 23:59:52 @CassandraRules The only country I wouldn't mind Trump dropping couple bombs is Saudi\n",
      "2018-04-15 23:59:52 @StatsInTheWild @seanhannity @realDonaldTrump LOL. If Trump's successes upset you....you're an idiot.\n",
      "2018-04-15 23:59:51 @BarstoolReags Do you think teams/players will be skeptical about Kawhi if he's available or does talent trump all?\n",
      "2018-04-15 23:59:51 This is the 2 year vote for Trump. Every conservative who wants to continue  the Trump agenda has to go vote. Otherwise everything done so far will be fr naught. https://t.co/XDfBDQjnvY\n",
      "2018-04-15 23:59:51 @Mandelamen Exactly, nothing Trump has done should be shocking to anyone. If anything, he's consistently a wretched human being.\n",
      "2018-04-15 23:59:51 @CASE103060 @realDonaldTrump So you tried to make Trump illegitimate with the fake Russian collusion and illegal leaking of classified material. You are despicable\n",
      "2018-04-15 23:59:50 Trump's press secretary issues clarification after posting misleading photo https://t.co/vICNXEfsMS\n",
      "2018-04-15 23:59:50 Absolutely PATHETIC work from sleazy Stephen Walkom’s terrible officials in the Jets and Wild game so far. When the hockey gets exciting and the tough get going, little Gary Bettman’s minions are there to make POROUS penalty calls and  destroy playoff excitement. DISGRACEFUL!\n",
      "2018-04-15 23:59:50 China is vulnerable - The Washington Times #China #Trump #MAGA Stop China taking advantage of #America @realDonaldTrump @POTUS @GOP #Midterms2018 important to #MAGA so #Democrats don’t give into China and hurt #America  https://t.co/jNGX8kkZdz\n",
      "2018-04-15 23:59:50 @KyleKashuv Please invite Mrs. Trump!\n",
      "2018-04-15 23:59:50 @FetusKebabs @LauraAJarrett @yashar Are you denying it on her behalf?\n",
      "2018-04-15 23:59:50 @kwilli1046 AND Obama used our tax money while Trump used his own. Guess who really broke the law!!\n",
      "2018-04-15 23:59:49 Trump assails Comey in tweetstorm, suggests ex-FBI director deserves ‘jail’ - The Washington Post https://t.co/JVvlGjUp3Q\n",
      "2018-04-15 23:59:49 Hundreds in Downtown Los Angeles Protest Trump's Decision to Bomb Syria https://t.co/TlyakXOhzV via @nbcla\n",
      "2018-04-15 23:59:48 @BillKristol Does Franklin understand that Donald Trump is a False Prophet teaching a Gospel of Hate? Because it sure seems like Franklin hasn't got a clue or he too subscribes to the Prince of Lies.\n",
      "2018-04-15 23:59:48 @CarolLeonnig @myhlee @anu_narayan Wealthy folks like Trump know full well how to use other people's money to pay their bills.\n",
      "2018-04-15 23:59:48 @thedudeabides81 They might as well, especially in Indiana. Majority of whites still approve of Trump. I wouldn't be shocked if it is close to 60% here.\n",
      "2018-04-15 23:59:47 the people who fought obama’s healthcare reform are the same ppl who got fucked by trump\n",
      "2018-04-15 23:59:47 Porn Star’s Representative Reveals How Trump’s Personal Attorney Has ‘Russian Ties’ https://t.co/x0sMX4BgHo\n"
     ]
    },
    {
     "name": "stdout",
     "output_type": "stream",
     "text": [
      "2018-04-15 23:59:47 Synopsis of the Indiana Republican Senate debate:\n",
      "\n",
      "\"I'm a conservative, now let me tell you why he's not.\"\n",
      "\n",
      "\"I'm a conservative, here's my argument on why he's not.\"\n",
      "\n",
      "\"I'm a conservative, and Trump was right. We need to get rid of career politicians.\"\n",
      "\n",
      "What a waste of time\n",
      "2018-04-15 23:59:47 Despicable Chris Wallace attacks today to Nikki Haley and President Trump couldn’t go lower. Big Stain on Fox News, another one. This Goebbelian is a disgrace worst than Sheppard Smith. Journalists they are not! https://t.co/0mYYGgFq8x\n",
      "2018-04-15 23:59:46 More Than One-Fifth Of The @realDonaldTrump Campaign's Spending This Year Has Been On Legal Fees https://t.co/xGkj3qDdfV #Scammers\n",
      "2018-04-15 23:59:46 Once they realize that Democrats have been USING them rather than HELPING them, that's going to happen.  Democrats have convinced blacks that they just can't survive without the help of liberal whites.  \n",
      "Trump's economy and job creation will make that abundantly clear very soon. https://t.co/fm5akLCY6O\n",
      "2018-04-15 23:59:46 @tribelaw @yoyobaba @AGSchneiderman Mueller is smart and tactical as hell.  No way Trump and team get to enjoy the run they’ve had so far in life.\n",
      "2018-04-15 23:59:46 Porn Star’s Representative Reveals How Trump’s Personal Attorney Has ‘Russian Ties’ https://t.co/RE6z2fwVpu\n",
      "2018-04-15 23:59:45 Trump's Brilliant 4-D Chess Syria Military Strategy Is No Match for Trea... https://t.co/gohd6VRUn7 via @YouTube\n",
      "2018-04-15 23:59:45 This is a perfect example of someone who can see the bigger picture. \n",
      "Watch out for those still calling Mueller bad for trump. They stupid and not on the trump train. https://t.co/dx9hMwDpou\n",
      "2018-04-15 23:59:45 Donald Trump freezes funding to groups fighting right-wing terror and white supremacism : Anarchism https://t.co/RIvKDHafLR\n",
      "2018-04-15 23:59:45 Could the CIA be sabotaging the Trump cabinet? - Episode #692 with Kevin... https://t.co/8jjFMMlra8 via @YouTube\n",
      "2018-04-15 23:59:45 All these tweets today from TRUMP regarding James Comey-do we think Trump is intimidated by Comey?! Trump is boiling mad! LAUGHABLE! James Comey was an incredible FBI Director, honorable and ALWAYS tethered to the truth. I'm doubtful that Trump can even spell the word INTEGRITY.\n",
      "2018-04-15 23:59:45 @DavidCornDC @Franklin_Graham How is it you do not understand that every time you make an apologetic for the inexcusable, you make God look like a buffoon. No one is suffering for Christ in your scenario, except Trump's victims.\n",
      "2018-04-15 23:59:45 FBI raid sought Trump lawyer’s communications with bank that loaned him money against his taxi business https://t.co/qj6m5lxGuc https://t.co/AqEGgmjUo7\n"
     ]
    }
   ],
   "source": [
    "import tweepy\n",
    "import csv\n",
    "import pandas as pd\n",
    "\n",
    "consumer_key =  'g7R7lUdr3xsPhwjHYbr6JxueD'\n",
    "consumer_secret = 'hnE8qYq7fKUK0EoGAboH7BoCITP1zW1e9ePMSZoTQslktazRon'\n",
    "access_token = '430899516-b7AZKIyYj96Cui7kQwWI9rNL3MlBZZD2NJ7OaVK2'\n",
    "access_token_secret = 'QXBJBLvDmQga940tYzKBrbxW6mEsPFKzTFNnNBFkhhfmb'\n",
    "\n",
    "auth = tweepy.OAuthHandler(consumer_key, consumer_secret)\n",
    "auth.set_access_token(access_token, access_token_secret)\n",
    "api = tweepy.API(auth,wait_on_rate_limit=True)\n",
    "#####United Airlines\n",
    "# Open/Create a file to append data\n",
    "csvFile = open('trump_en_2.csv', 'a')\n",
    "#Use csv Writer\n",
    "csvWriter = csv.writer(csvFile)\n",
    "\n",
    "for tweet in tweepy.Cursor(api.search, q= u'Trump',\n",
    "                           lang=\"en\",\n",
    "                           tweet_mode='extended',\n",
    "                          until='2018-04-16').items(1000):\n",
    "    if tweet.full_text[:2] != 'RT':\n",
    "        print (tweet.created_at, tweet.full_text)\n",
    "        csvWriter.writerow([tweet.created_at, tweet.full_text])"
   ]
  },
  {
   "cell_type": "code",
   "execution_count": null,
   "metadata": {},
   "outputs": [],
   "source": [
    "lol =  tweepy.Cursor(api.search,q=\"#Жириновский\",\n",
    "                           lang=\"ru\",\n",
    "                           since=\"2017-12-10\",\n",
    "                           until=\"2018-03-16\")"
   ]
  },
  {
   "cell_type": "code",
   "execution_count": 9,
   "metadata": {},
   "outputs": [
    {
     "data": {
      "text/plain": [
       "<tweepy.api.API at 0x1138a7cc0>"
      ]
     },
     "execution_count": 9,
     "metadata": {},
     "output_type": "execute_result"
    }
   ],
   "source": [
    "api"
   ]
  },
  {
   "cell_type": "code",
   "execution_count": null,
   "metadata": {},
   "outputs": [],
   "source": []
  }
 ],
 "metadata": {
  "kernelspec": {
   "display_name": "Python 3",
   "language": "python",
   "name": "python3"
  },
  "language_info": {
   "codemirror_mode": {
    "name": "ipython",
    "version": 3
   },
   "file_extension": ".py",
   "mimetype": "text/x-python",
   "name": "python",
   "nbconvert_exporter": "python",
   "pygments_lexer": "ipython3",
   "version": "3.6.4"
  }
 },
 "nbformat": 4,
 "nbformat_minor": 2
}
