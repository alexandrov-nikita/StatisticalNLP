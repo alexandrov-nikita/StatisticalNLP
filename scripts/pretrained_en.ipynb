{
 "cells": [
  {
   "cell_type": "code",
   "execution_count": 1,
   "metadata": {},
   "outputs": [],
   "source": [
    "from gensim.models import KeyedVectors\n",
    "\n",
    "import itertools"
   ]
  },
  {
   "cell_type": "code",
   "execution_count": 2,
   "metadata": {},
   "outputs": [],
   "source": [
    "path = '../models/en/pretrained/GoogleNews-vectors-negative300.bin'\n",
    "\n",
    "model = KeyedVectors.load_word2vec_format(path, binary=True)"
   ]
  },
  {
   "cell_type": "markdown",
   "metadata": {},
   "source": [
    "Let's see how the pretrained model performs on the keywords. The model has been trained without lowercasing words so the proper nouns are capitalized."
   ]
  },
  {
   "cell_type": "code",
   "execution_count": 3,
   "metadata": {},
   "outputs": [],
   "source": [
    "keywords = ['Syria', 'Damascus', 'Assad', 'politics', 'Putin', 'Trump', 'Russia', 'USA', 'Skripal', 'UK']"
   ]
  },
  {
   "cell_type": "code",
   "execution_count": 4,
   "metadata": {},
   "outputs": [
    {
     "name": "stderr",
     "output_type": "stream",
     "text": [
      "/work/modules/Ubuntu/14.04/amd64/common/anaconda3/latest/lib/python3.6/site-packages/ipykernel_launcher.py:7: DeprecationWarning: Call to deprecated `wv` (Attribute will be removed in 4.0.0, use self instead).\n",
      "  import sys\n"
     ]
    },
    {
     "name": "stdout",
     "output_type": "stream",
     "text": [
      "('Syrian', 'Syria', 'President_Bashar_Assad', 'partisan_politics', 'Medvedev', 'Donald_Trump', 'Ukraine', 'lifts_Squaw_Valley', 'Sergei_Skripal', 'Britain')\n",
      "('Syrians', 'Syrian', 'al_Assad', 'Politics', 'Vladimir_Putin', 'impersonator_entertained', 'Moscow', 'Mobility_NASDAQ_USMO', 'Gennady_Vasilenko', 'United_Kingdom')\n",
      "('Iran', 'Beirut', 'Mubarak', 'political', 'President_Vladimir_Putin', 'Ivanka_Trump', 'Russian', 'lifts_Sugarloaf', 'Gennady_Vasilenko_former', 'UKs')\n",
      "('Damascus', 'Tehran', 'Bashar_Assad', 'politcs', 'Prime_Minister_Vladimir_Putin', 'Ivanka', 'Belarus', 'proudly_proclaims_Made', 'Zaporozhsky', 'British')\n",
      "('Hezbollah', 'Assad', 'Syrian', 'poltics', 'Kremlin', 'mogul_Donald_Trump', 'Kremlin', 'World_Premiere_Narrative', 'Herman_Simm', 'Britains')\n",
      "('Hizbullah', 'Teheran', 'President_Bashar', 'Lisa_Vorderbrueggen_covers', 'Lukashenko', 'Trump_Tower', 'Kazakhstan', 'Mobility_Sets_Date', 'businessman_Andrei_Lugovoi', 'Wiley_Chichester')\n",
      "('Egypt', 'Cairo', 'Syria', 'partisanship', 'Nazarbayev', 'Kepcher', 'Russians', 'MONTVALE_NJ_Mercedes_Benz', 'Zaporozhsky_Igor_Sutyagin_Gennady', 'Hassan_Mirza_Gay.com')\n",
      "('Lebanon', 'Syrians', 'Siniora', 'politicians', 'Saakashvili', 'billionaire_Donald_Trump', 'Biologist_Anatoly_Kochnev', 'Heavy_Duty_Waterproof_Flashlight', 'Alexander_Zaporozhsky', 'Britian')\n",
      "('Israel', 'Lebanon', 'Damascus', 'politician', 'Lukashenka', 'Trumpster', 'Azerbaijan', 'U.S.A.', 'exchanged_Sergei_Skripal', 'Rob_Burman_IGN')\n",
      "('Hizbollah', 'Amman', 'Abbas', 'politicking', 'Yushchenko', 'tycoon_Donald_Trump', 'Putin', 'L._Kasuske_Seattle', 'Gennady_Vasilenko_Sergei_Skripal', 'Great_Britain')\n"
     ]
    }
   ],
   "source": [
    "# for keyword in keywords:\n",
    "#     print('keyword: ' + keyword)\n",
    "#     for word, sim in model.most_similar(positive=[keyword]):\n",
    "#         print(word)\n",
    "#     print()\n",
    "    \n",
    "xs = [[word for word, _ in model.wv.most_similar(keyword)] for keyword in keywords]\n",
    "\n",
    "for a in (list(zip(*xs))):\n",
    "    print(a)"
   ]
  },
  {
   "cell_type": "markdown",
   "metadata": {},
   "source": [
    "Let's see how well the pretrained model performs on our custom analogical reasoning task"
   ]
  },
  {
   "cell_type": "code",
   "execution_count": 5,
   "metadata": {},
   "outputs": [],
   "source": [
    "president_country = [\n",
    "    ('Russia', 'Putin'),\n",
    "    ('America', 'Trump'),\n",
    "    ('Britain', 'May'),\n",
    "    ('Syria', 'Assad'),\n",
    "    ('Germany', 'Merkel'),\n",
    "    ('France', 'Macron'),\n",
    "    ('Japan', 'Abe'),\n",
    "    ('Turkey', 'Erdogan')\n",
    "]\n",
    "\n",
    "combinations_pres_country = [pair for pair in itertools.combinations(president_country, r=2)]"
   ]
  },
  {
   "cell_type": "code",
   "execution_count": 6,
   "metadata": {},
   "outputs": [],
   "source": [
    "def evaluateModel(m, debug=0):\n",
    "    find_country = 0\n",
    "    find_president = 0\n",
    "    for equation in combinations_pres_country:\n",
    "        \n",
    "        a = equation[0][0]\n",
    "        b = equation[1][1]\n",
    "        c = equation[0][1]\n",
    "        d = equation[1][0]\n",
    "        \n",
    "        if a in m.wv.vocab and b in m.wv.vocab and c in m.wv.vocab:\n",
    "            for i, x in enumerate(m.wv.most_similar(positive=[a, b], negative=[c])):\n",
    "                if d == x[0]:\n",
    "                    find_country += 1.0/(i + 1)\n",
    "                    if debug == 1:\n",
    "                        print(\"Found %s for relation %s -> %s and %s -> ? in position %d\"%(d, c, a, b, i + 1))\n",
    "        \n",
    "        if c in m.wv.vocab and d in m.wv.vocab and b in m.wv.vocab:\n",
    "            for i, x in enumerate(m.wv.most_similar(positive=[c, d], negative=[b])):\n",
    "                if a == x[0]:\n",
    "                    find_country += 1.0/(i + 1)\n",
    "                    if debug == 1:\n",
    "                        print(\"Found %s for relation %s -> %s and %s -> ? in position %d\"%(a, b, d, c, i + 1))\n",
    "\n",
    "        if a in m.wv.vocab and c in m.wv.vocab and d in m.wv.vocab:\n",
    "            for i, x in enumerate(m.wv.most_similar(positive=[c, d], negative=[a])):\n",
    "                if b == x[0]:\n",
    "                    find_president += 1.0/(i + 1)\n",
    "                    if debug == 1:\n",
    "                        print(\"Found %s for relation %s -> %s and %s -> ? in position %d\"%(b, a, c, d, i + 1))\n",
    "        \n",
    "        if a in m.wv.vocab and b in m.wv.vocab and d in m.wv.vocab:\n",
    "            for i, x in enumerate(m.wv.most_similar(positive=[a, b], negative=[d])):\n",
    "                if c == x[0]:\n",
    "                    find_president += 1.0/(i + 1)\n",
    "                    if debug == 1:\n",
    "                        print(\"Found %s for relation %s -> %s and %s -> ? in position %d\"%(c, d, b, a, i + 1))\n",
    "                    \n",
    "    return find_country, find_president"
   ]
  },
  {
   "cell_type": "code",
   "execution_count": 7,
   "metadata": {},
   "outputs": [
    {
     "name": "stderr",
     "output_type": "stream",
     "text": [
      "/work/modules/Ubuntu/14.04/amd64/common/anaconda3/latest/lib/python3.6/site-packages/ipykernel_launcher.py:11: DeprecationWarning: Call to deprecated `wv` (Attribute will be removed in 4.0.0, use self instead).\n",
      "  # This is added back by InteractiveShellApp.init_path()\n",
      "/work/modules/Ubuntu/14.04/amd64/common/anaconda3/latest/lib/python3.6/site-packages/ipykernel_launcher.py:12: DeprecationWarning: Call to deprecated `wv` (Attribute will be removed in 4.0.0, use self instead).\n",
      "  if sys.path[0] == '':\n",
      "/work/modules/Ubuntu/14.04/amd64/common/anaconda3/latest/lib/python3.6/site-packages/ipykernel_launcher.py:18: DeprecationWarning: Call to deprecated `wv` (Attribute will be removed in 4.0.0, use self instead).\n",
      "/work/modules/Ubuntu/14.04/amd64/common/anaconda3/latest/lib/python3.6/site-packages/ipykernel_launcher.py:19: DeprecationWarning: Call to deprecated `wv` (Attribute will be removed in 4.0.0, use self instead).\n"
     ]
    },
    {
     "name": "stdout",
     "output_type": "stream",
     "text": [
      "Found Russia for relation Trump -> America and Putin -> ? in position 1\n"
     ]
    },
    {
     "name": "stderr",
     "output_type": "stream",
     "text": [
      "/work/modules/Ubuntu/14.04/amd64/common/anaconda3/latest/lib/python3.6/site-packages/ipykernel_launcher.py:25: DeprecationWarning: Call to deprecated `wv` (Attribute will be removed in 4.0.0, use self instead).\n",
      "/work/modules/Ubuntu/14.04/amd64/common/anaconda3/latest/lib/python3.6/site-packages/ipykernel_launcher.py:26: DeprecationWarning: Call to deprecated `wv` (Attribute will be removed in 4.0.0, use self instead).\n",
      "/work/modules/Ubuntu/14.04/amd64/common/anaconda3/latest/lib/python3.6/site-packages/ipykernel_launcher.py:32: DeprecationWarning: Call to deprecated `wv` (Attribute will be removed in 4.0.0, use self instead).\n",
      "/work/modules/Ubuntu/14.04/amd64/common/anaconda3/latest/lib/python3.6/site-packages/ipykernel_launcher.py:33: DeprecationWarning: Call to deprecated `wv` (Attribute will be removed in 4.0.0, use self instead).\n"
     ]
    },
    {
     "name": "stdout",
     "output_type": "stream",
     "text": [
      "Found Russia for relation May -> Britain and Putin -> ? in position 1\n",
      "Found Syria for relation Putin -> Russia and Assad -> ? in position 1\n",
      "Found Russia for relation Assad -> Syria and Putin -> ? in position 1\n",
      "Found Assad for relation Russia -> Putin and Syria -> ? in position 1\n",
      "Found Putin for relation Syria -> Assad and Russia -> ? in position 2\n",
      "Found Germany for relation Putin -> Russia and Merkel -> ? in position 1\n",
      "Found Russia for relation Merkel -> Germany and Putin -> ? in position 1\n",
      "Found Merkel for relation Russia -> Putin and Germany -> ? in position 4\n",
      "Found Putin for relation Germany -> Merkel and Russia -> ? in position 1\n",
      "Found Russia for relation Macron -> France and Putin -> ? in position 4\n",
      "Found Japan for relation Putin -> Russia and Abe -> ? in position 1\n",
      "Found Russia for relation Abe -> Japan and Putin -> ? in position 1\n",
      "Found Putin for relation Japan -> Abe and Russia -> ? in position 1\n",
      "Found Turkey for relation Putin -> Russia and Erdogan -> ? in position 1\n",
      "Found Russia for relation Erdogan -> Turkey and Putin -> ? in position 1\n",
      "Found Erdogan for relation Russia -> Putin and Turkey -> ? in position 1\n",
      "Found Putin for relation Turkey -> Erdogan and Russia -> ? in position 1\n",
      "Found Syria for relation Trump -> America and Assad -> ? in position 3\n",
      "Found Assad for relation America -> Trump and Syria -> ? in position 2\n",
      "Found Germany for relation Trump -> America and Merkel -> ? in position 3\n",
      "Found Japan for relation Trump -> America and Abe -> ? in position 1\n",
      "Found Turkey for relation Trump -> America and Erdogan -> ? in position 2\n",
      "Found Syria for relation May -> Britain and Assad -> ? in position 1\n",
      "Found Germany for relation May -> Britain and Merkel -> ? in position 10\n",
      "Found Japan for relation May -> Britain and Abe -> ? in position 3\n",
      "Found Turkey for relation May -> Britain and Erdogan -> ? in position 7\n",
      "Found Germany for relation Assad -> Syria and Merkel -> ? in position 8\n",
      "Found Syria for relation Merkel -> Germany and Assad -> ? in position 1\n",
      "Found Assad for relation Germany -> Merkel and Syria -> ? in position 2\n",
      "Found Syria for relation Macron -> France and Assad -> ? in position 2\n",
      "Found Japan for relation Assad -> Syria and Abe -> ? in position 1\n",
      "Found Syria for relation Abe -> Japan and Assad -> ? in position 1\n",
      "Found Assad for relation Japan -> Abe and Syria -> ? in position 1\n",
      "Found Turkey for relation Assad -> Syria and Erdogan -> ? in position 1\n",
      "Found Syria for relation Erdogan -> Turkey and Assad -> ? in position 1\n",
      "Found Erdogan for relation Syria -> Assad and Turkey -> ? in position 1\n",
      "Found Assad for relation Turkey -> Erdogan and Syria -> ? in position 1\n",
      "Found Germany for relation Macron -> France and Merkel -> ? in position 5\n",
      "Found Japan for relation Merkel -> Germany and Abe -> ? in position 1\n",
      "Found Germany for relation Abe -> Japan and Merkel -> ? in position 1\n",
      "Found Turkey for relation Merkel -> Germany and Erdogan -> ? in position 1\n",
      "Found Germany for relation Erdogan -> Turkey and Merkel -> ? in position 1\n",
      "Found Erdogan for relation Germany -> Merkel and Turkey -> ? in position 1\n",
      "Found Merkel for relation Turkey -> Erdogan and Germany -> ? in position 5\n",
      "Found Japan for relation Macron -> France and Abe -> ? in position 2\n",
      "Found Turkey for relation Abe -> Japan and Erdogan -> ? in position 1\n",
      "Found Japan for relation Erdogan -> Turkey and Abe -> ? in position 1\n",
      "Found Erdogan for relation Japan -> Abe and Turkey -> ? in position 2\n",
      "37.76785714285714\n"
     ]
    }
   ],
   "source": [
    "score_country, score_president = evaluateModel(model, 1)\n",
    "\n",
    "score = score_country + score_president\n",
    "\n",
    "print(score)"
   ]
  },
  {
   "cell_type": "code",
   "execution_count": 8,
   "metadata": {},
   "outputs": [],
   "source": [
    "eval_path = '/work/courses/unix/T/ELEC/E5550/data/eval/analogical_reasoning_questions-words.txt'"
   ]
  },
  {
   "cell_type": "code",
   "execution_count": 9,
   "metadata": {},
   "outputs": [
    {
     "name": "stdout",
     "output_type": "stream",
     "text": [
      "19544\n"
     ]
    }
   ],
   "source": [
    "combinations = []\n",
    "\n",
    "with open(eval_path, 'r') as f:\n",
    "    for line in f.readlines():\n",
    "        line = line.strip()\n",
    "        \n",
    "        if line.startswith(':'):\n",
    "            continue\n",
    "        else:\n",
    "            a, b, c, d = line.split()\n",
    "            combinations.append(((a, b), (c, d)))\n",
    "            \n",
    "print(len(combinations))"
   ]
  },
  {
   "cell_type": "code",
   "execution_count": 10,
   "metadata": {},
   "outputs": [],
   "source": [
    "def evaluateModel2(m, combinations):\n",
    "    found = 0\n",
    "    \n",
    "    for equation in combinations:\n",
    "        \n",
    "        a = equation[0][0]\n",
    "        b = equation[1][1]\n",
    "        c = equation[0][1]\n",
    "        d = equation[1][0]\n",
    "        \n",
    "        if a in m.wv.vocab and b in m.wv.vocab and c in m.wv.vocab:\n",
    "            for i, x in enumerate(m.wv.most_similar(positive=[a, b], negative=[c])):\n",
    "                if d == x[0]:\n",
    "                    found += 1\n",
    "        \n",
    "        if c in m.wv.vocab and d in m.wv.vocab and b in m.wv.vocab:\n",
    "            for i, x in enumerate(m.wv.most_similar(positive=[c, d], negative=[b])):\n",
    "                if a == x[0]:\n",
    "                    found += 1\n",
    "\n",
    "        if a in m.wv.vocab and c in m.wv.vocab and d in m.wv.vocab:\n",
    "            for i, x in enumerate(m.wv.most_similar(positive=[c, d], negative=[a])):\n",
    "                if b == x[0]:\n",
    "                    found += 1\n",
    "                    \n",
    "        if a in m.wv.vocab and b in m.wv.vocab and d in m.wv.vocab:\n",
    "            for i, x in enumerate(m.wv.most_similar(positive=[a, b], negative=[d])):\n",
    "                if c == x[0]:\n",
    "                    found += 1\n",
    "                    \n",
    "    return found"
   ]
  },
  {
   "cell_type": "code",
   "execution_count": null,
   "metadata": {},
   "outputs": [
    {
     "name": "stderr",
     "output_type": "stream",
     "text": [
      "/work/modules/Ubuntu/14.04/amd64/common/anaconda3/latest/lib/python3.6/site-packages/ipykernel_launcher.py:11: DeprecationWarning: Call to deprecated `wv` (Attribute will be removed in 4.0.0, use self instead).\n",
      "  # This is added back by InteractiveShellApp.init_path()\n",
      "/work/modules/Ubuntu/14.04/amd64/common/anaconda3/latest/lib/python3.6/site-packages/ipykernel_launcher.py:12: DeprecationWarning: Call to deprecated `wv` (Attribute will be removed in 4.0.0, use self instead).\n",
      "  if sys.path[0] == '':\n",
      "/work/modules/Ubuntu/14.04/amd64/common/anaconda3/latest/lib/python3.6/site-packages/ipykernel_launcher.py:16: DeprecationWarning: Call to deprecated `wv` (Attribute will be removed in 4.0.0, use self instead).\n",
      "  app.launch_new_instance()\n",
      "/work/modules/Ubuntu/14.04/amd64/common/anaconda3/latest/lib/python3.6/site-packages/ipykernel_launcher.py:17: DeprecationWarning: Call to deprecated `wv` (Attribute will be removed in 4.0.0, use self instead).\n",
      "/work/modules/Ubuntu/14.04/amd64/common/anaconda3/latest/lib/python3.6/site-packages/ipykernel_launcher.py:21: DeprecationWarning: Call to deprecated `wv` (Attribute will be removed in 4.0.0, use self instead).\n",
      "/work/modules/Ubuntu/14.04/amd64/common/anaconda3/latest/lib/python3.6/site-packages/ipykernel_launcher.py:22: DeprecationWarning: Call to deprecated `wv` (Attribute will be removed in 4.0.0, use self instead).\n",
      "/work/modules/Ubuntu/14.04/amd64/common/anaconda3/latest/lib/python3.6/site-packages/ipykernel_launcher.py:26: DeprecationWarning: Call to deprecated `wv` (Attribute will be removed in 4.0.0, use self instead).\n",
      "/work/modules/Ubuntu/14.04/amd64/common/anaconda3/latest/lib/python3.6/site-packages/ipykernel_launcher.py:27: DeprecationWarning: Call to deprecated `wv` (Attribute will be removed in 4.0.0, use self instead).\n"
     ]
    }
   ],
   "source": [
    "print(evaluateModel2(model, combinations))"
   ]
  }
 ],
 "metadata": {
  "kernelspec": {
   "display_name": "Python 3",
   "language": "python",
   "name": "python3"
  },
  "language_info": {
   "codemirror_mode": {
    "name": "ipython",
    "version": 3
   },
   "file_extension": ".py",
   "mimetype": "text/x-python",
   "name": "python",
   "nbconvert_exporter": "python",
   "pygments_lexer": "ipython3",
   "version": "3.6.5"
  }
 },
 "nbformat": 4,
 "nbformat_minor": 2
}
