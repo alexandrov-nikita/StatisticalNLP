{
 "cells": [
  {
   "cell_type": "code",
   "execution_count": 12,
   "metadata": {},
   "outputs": [],
   "source": [
    "import hashlib\n",
    "import csv\n",
    "\n",
    "names = ['trump', 'syria', 'putin', 'usa', 'asad', 'skripal', 'politics', 'damascus', 'russia', 'britain']\n",
    "words_hash = set()\n",
    "\n",
    "csvFile = open('../tweets/ru/all.csv', 'a')\n",
    "csvWriter = csv.writer(csvFile)\n",
    "counter = 0\n",
    "\n",
    "for name in names:\n",
    "    with open('../tweets/ru/' + name + '.csv', newline='') as csvfile:\n",
    "        reader = csv.reader(csvfile)\n",
    "        for row in reader:\n",
    "            k = hashlib.md5(row[1].encode('utf-8')).hexdigest()\n",
    "            if k not in words_hash:\n",
    "                words_hash.add(k)\n",
    "                csvWriter.writerow([str(counter), row[1]])\n",
    "                counter += 1"
   ]
  }
 ],
 "metadata": {
  "kernelspec": {
   "display_name": "Python 3",
   "language": "python",
   "name": "python3"
  },
  "language_info": {
   "codemirror_mode": {
    "name": "ipython",
    "version": 3
   },
   "file_extension": ".py",
   "mimetype": "text/x-python",
   "name": "python",
   "nbconvert_exporter": "python",
   "pygments_lexer": "ipython3",
   "version": "3.6.4"
  }
 },
 "nbformat": 4,
 "nbformat_minor": 2
}
